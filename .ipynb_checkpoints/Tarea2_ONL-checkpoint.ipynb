{
 "cells": [
  {
   "cell_type": "markdown",
   "metadata": {},
   "source": [
    "# Tarea 2 MA-5701\n",
    "\n",
    "Integrantes:\n",
    "\n",
    "    - Sebastian Lopez\n",
    "    - Kurt Walsen\n",
    "    - Francisco Vásquez"
   ]
  },
  {
   "cell_type": "markdown",
   "metadata": {},
   "source": [
    "# Previos"
   ]
  },
  {
   "cell_type": "markdown",
   "metadata": {},
   "source": [
    "## Importación de Librerías"
   ]
  },
  {
   "cell_type": "code",
   "execution_count": null,
   "metadata": {
    "ExecuteTime": {
     "end_time": "2020-06-21T03:18:51.729532Z",
     "start_time": "2020-06-21T03:18:48.969660Z"
    }
   },
   "outputs": [],
   "source": [
    "import pandas as pd\n",
    "import seaborn as sns\n",
    "import matplotlib.pyplot as plt\n",
    "import numpy as np\n",
    "import matplotlib.ticker as tick\n",
    "import gurobipy as gb\n",
    "import scipy.optimize as opti\n",
    "\n",
    "from sklearn.metrics import mean_squared_error"
   ]
  },
  {
   "cell_type": "markdown",
   "metadata": {},
   "source": [
    "## Parámetros Generales"
   ]
  },
  {
   "cell_type": "code",
   "execution_count": null,
   "metadata": {
    "ExecuteTime": {
     "end_time": "2020-06-21T03:18:51.748519Z",
     "start_time": "2020-06-21T03:18:51.732528Z"
    }
   },
   "outputs": [],
   "source": [
    "pd.set_option('display.max_rows', 50)\n",
    "pd.set_option('display.max_columns', 50)\n",
    "pd.set_option('display.width', 50)\n",
    "\n",
    "# Parámetros para gráficos\n",
    "plt.style.use('seaborn')\n",
    "\n",
    "plt.rcParams.update({'font.size': 25})      \n",
    "plt.rc('axes', labelsize=20)\n",
    "plt.rc('legend', fontsize=18)  \n",
    "plt.rc('xtick', labelsize=20) \n",
    "plt.rc('ytick', labelsize=20) \n",
    "plt.rcParams['axes.titlesize'] = 25\n",
    "plt.rcParams[\"figure.figsize\"] = (15,6)"
   ]
  },
  {
   "cell_type": "markdown",
   "metadata": {},
   "source": [
    "# Trabajo de Datos"
   ]
  },
  {
   "cell_type": "markdown",
   "metadata": {},
   "source": [
    "## Importación"
   ]
  },
  {
   "cell_type": "code",
   "execution_count": null,
   "metadata": {
    "ExecuteTime": {
     "end_time": "2020-06-21T03:18:51.870444Z",
     "start_time": "2020-06-21T03:18:51.752518Z"
    }
   },
   "outputs": [],
   "source": [
    "df = pd.read_csv('data/data_modificada.csv')"
   ]
  },
  {
   "cell_type": "markdown",
   "metadata": {},
   "source": [
    "## Trabajo previo"
   ]
  },
  {
   "cell_type": "code",
   "execution_count": null,
   "metadata": {
    "ExecuteTime": {
     "end_time": "2020-06-21T03:18:52.014872Z",
     "start_time": "2020-06-21T03:18:51.876441Z"
    }
   },
   "outputs": [],
   "source": [
    "df.head()"
   ]
  },
  {
   "cell_type": "code",
   "execution_count": null,
   "metadata": {
    "ExecuteTime": {
     "end_time": "2020-06-21T03:18:52.194761Z",
     "start_time": "2020-06-21T03:18:52.018869Z"
    }
   },
   "outputs": [],
   "source": [
    "df.Fecha = pd.to_datetime(df.Fecha)\n",
    "df = df.sort_values(by = 'Fecha')"
   ]
  },
  {
   "cell_type": "markdown",
   "metadata": {},
   "source": [
    "# Visualizaciones"
   ]
  },
  {
   "cell_type": "code",
   "execution_count": null,
   "metadata": {
    "ExecuteTime": {
     "end_time": "2020-06-21T03:18:52.302694Z",
     "start_time": "2020-06-21T03:18:52.213750Z"
    }
   },
   "outputs": [],
   "source": [
    "def plot_columna(columna):\n",
    "    data = df.set_index('Fecha')[columna]\n",
    "    \n",
    "    fig, ax = plt.subplots()\n",
    "    \n",
    "    grafico = data.plot(kind = 'line', ax = ax,\n",
    "                       style = '.-', linewidth = 2,\n",
    "                       ms = 10)\n",
    "    \n",
    "    plt.gca().yaxis.set_major_formatter(tick.FuncFormatter(lambda x,y: str(int(x//1000)) + 'M' ))\n",
    "    \n",
    "    ax.set_ylabel('Cantidad de {}'.format(columna))\n",
    "    ax.set_xlabel('Fecha')\n",
    "    \n",
    "    plt.title('Cantidad de {} por Fecha'.format(columna))\n",
    "    plt.tight_layout()\n",
    "    plt.savefig('graficos/graf_cantidad_{}_fecha.pdf'.format(columna.replace(' ','')),\n",
    "               format = 'pdf',\n",
    "               dpi = 600)\n",
    "    plt.show()"
   ]
  },
  {
   "cell_type": "code",
   "execution_count": null,
   "metadata": {
    "ExecuteTime": {
     "end_time": "2020-06-21T03:18:54.106606Z",
     "start_time": "2020-06-21T03:18:52.306692Z"
    }
   },
   "outputs": [],
   "source": [
    "plot_columna('Recuperados')"
   ]
  },
  {
   "cell_type": "code",
   "execution_count": null,
   "metadata": {
    "ExecuteTime": {
     "end_time": "2020-06-21T03:18:55.667454Z",
     "start_time": "2020-06-21T03:18:54.114601Z"
    }
   },
   "outputs": [],
   "source": [
    "plot_columna('Casos Totales')"
   ]
  },
  {
   "cell_type": "markdown",
   "metadata": {
    "ExecuteTime": {
     "end_time": "2020-06-20T21:13:46.697924Z",
     "start_time": "2020-06-20T21:13:46.679934Z"
    }
   },
   "source": [
    "# Modelo"
   ]
  },
  {
   "cell_type": "markdown",
   "metadata": {},
   "source": [
    "## Modelo Infectados General"
   ]
  },
  {
   "cell_type": "code",
   "execution_count": null,
   "metadata": {
    "ExecuteTime": {
     "end_time": "2020-06-21T03:18:55.684443Z",
     "start_time": "2020-06-21T03:18:55.673451Z"
    }
   },
   "outputs": [],
   "source": [
    "def func_to_optimize_infectados(params):\n",
    "    alpha = params[0]\n",
    "    beta = params[1]\n",
    "    sigma = params[2]\n",
    "    \n",
    "    val = 0\n",
    "    \n",
    "    for dia, n_infectados in enumerate(df['Casos Totales']):\n",
    "        logit = (alpha)/(1 + beta * np.exp(-dia / sigma))\n",
    "        val = val + np.power(n_infectados - logit, 2)\n",
    "    \n",
    "    return val"
   ]
  },
  {
   "cell_type": "code",
   "execution_count": null,
   "metadata": {
    "ExecuteTime": {
     "end_time": "2020-06-21T03:28:36.891586Z",
     "start_time": "2020-06-21T03:28:36.884594Z"
    }
   },
   "outputs": [],
   "source": [
    "constraints_infectados = (#{'type': 'ineq',\n",
    "               #'fun': lambda param: param[0]... >= 0},\n",
    "              {'type': 'eq',\n",
    "               'fun': lambda param: param[0] - 250000})\n",
    "        \n",
    "bnds_infectados = ((0, None), (0, None), (0, None))\n",
    "\n",
    "x0_infectados_general = [1000000., 200., 10.]"
   ]
  },
  {
   "cell_type": "code",
   "execution_count": null,
   "metadata": {
    "ExecuteTime": {
     "end_time": "2020-06-21T03:28:37.677110Z",
     "start_time": "2020-06-21T03:28:37.384283Z"
    }
   },
   "outputs": [],
   "source": [
    "mod_infectados_general = opti.minimize(fun = func_to_optimize_infectados,\n",
    "                                       x0 = x0_infectados_general,\n",
    "                                       bounds = bnds_infectados)"
   ]
  },
  {
   "cell_type": "markdown",
   "metadata": {},
   "source": [
    "## Modelo Infectados Máximo 250M"
   ]
  },
  {
   "cell_type": "code",
   "execution_count": null,
   "metadata": {
    "ExecuteTime": {
     "end_time": "2020-06-21T03:18:56.111182Z",
     "start_time": "2020-06-21T03:18:56.031231Z"
    }
   },
   "outputs": [],
   "source": [
    "x0_infectados_cota = [250000., 1000., 1000.]\n",
    "mod_infectados_cota = opti.minimize(fun = func_to_optimize_infectados,\n",
    "                               x0 = x0_infectados_cota,\n",
    "                               constraints = constraints_infectados,\n",
    "                                    bounds = bnds_infectados)"
   ]
  },
  {
   "cell_type": "markdown",
   "metadata": {},
   "source": [
    "## Modelo Fallecidos General"
   ]
  },
  {
   "cell_type": "code",
   "execution_count": null,
   "metadata": {
    "ExecuteTime": {
     "end_time": "2020-06-21T03:39:29.980666Z",
     "start_time": "2020-06-21T03:39:29.970675Z"
    }
   },
   "outputs": [],
   "source": [
    "def func_to_optimize_fallecidos(params):\n",
    "    alpha = params[0]\n",
    "    beta = params[1]\n",
    "    sigma = params[2]\n",
    "    \n",
    "    val = 0\n",
    "    \n",
    "    for dia, n_infectados in enumerate(df['Fallecidos']):\n",
    "        logit = (alpha)/(1 + beta * np.exp(-dia / sigma))\n",
    "        val = val + np.power(n_infectados - logit, 2)\n",
    "    \n",
    "    return val"
   ]
  },
  {
   "cell_type": "code",
   "execution_count": null,
   "metadata": {
    "ExecuteTime": {
     "end_time": "2020-06-21T03:41:52.412467Z",
     "start_time": "2020-06-21T03:41:52.404472Z"
    }
   },
   "outputs": [],
   "source": [
    "constraints_fallecidos = (#{'type': 'ineq',\n",
    "               #'fun': lambda param: param[0]... >= 0},\n",
    "              {'type': 'eq',\n",
    "               'fun': lambda param: param[0] - 250000})\n",
    "        \n",
    "bnds_fallecidos = ((0, None), (0, None), (0, None))\n",
    "\n",
    "x0_fallecidos_general = [1500., 50., 20.]"
   ]
  },
  {
   "cell_type": "code",
   "execution_count": null,
   "metadata": {
    "ExecuteTime": {
     "end_time": "2020-06-21T03:41:54.020010Z",
     "start_time": "2020-06-21T03:41:52.943167Z"
    }
   },
   "outputs": [],
   "source": [
    "mod_fallecidos_general = opti.minimize(fun = func_to_optimize_fallecidos,\n",
    "                                       x0 = x0_fallecidos_general,\n",
    "                                       bounds = bnds_fallecidos)"
   ]
  },
  {
   "cell_type": "markdown",
   "metadata": {},
   "source": [
    "# Resultados"
   ]
  },
  {
   "cell_type": "markdown",
   "metadata": {},
   "source": [
    "## Auxiliar Predicciones"
   ]
  },
  {
   "cell_type": "code",
   "execution_count": null,
   "metadata": {
    "ExecuteTime": {
     "end_time": "2020-06-21T03:18:56.168146Z",
     "start_time": "2020-06-21T03:18:56.114180Z"
    }
   },
   "outputs": [],
   "source": [
    "def predicciones(params, vec_dias):\n",
    "    alpha = params[0]\n",
    "    beta = params[1]\n",
    "    sigma = params[2]\n",
    "    \n",
    "    fun = lambda t: (alpha)/(1 + beta * np.exp(-t / sigma))\n",
    "    \n",
    "    return list(map(fun, vec_dias))"
   ]
  },
  {
   "cell_type": "code",
   "execution_count": null,
   "metadata": {
    "ExecuteTime": {
     "end_time": "2020-06-21T03:45:47.628739Z",
     "start_time": "2020-06-21T03:45:47.609750Z"
    }
   },
   "outputs": [],
   "source": [
    "def plot_diferencias(columna, predicciones, extra = False):\n",
    "    dia = df['Dia']\n",
    "    original = df[columna]\n",
    "    \n",
    "    fig, ax = plt.subplots()\n",
    "    \n",
    "    grafico_real = plt.scatter(dia, original, alpha = 0.8, s = 15, label = '{} Real'.format(columna),\n",
    "                              c = 'green')\n",
    "    \n",
    "    grafico_predicciones = plt.plot(dia, predicciones, label = 'Predicción', c = 'royalblue')\n",
    "    \n",
    "    if columna == 'Fallecidos':\n",
    "        plt.gca().yaxis.set_major_formatter(tick.FuncFormatter(lambda x,y: str(int(x)) ))\n",
    "    else:\n",
    "        plt.gca().yaxis.set_major_formatter(tick.FuncFormatter(lambda x,y: str(int(x//1000)) + 'M' ))\n",
    "    \n",
    "    ax.set_ylabel('Cantidad de {}'.format(columna))\n",
    "    ax.set_xlabel('Día')\n",
    "    \n",
    "    plt.legend(loc=2)\n",
    "    plt.tight_layout()\n",
    "    \n",
    "    if extra:\n",
    "        plt.title('Predicción de {} por día, Máximo 250M'.format(columna))\n",
    "        plt.savefig('graficos/graf_prediccion_{}_dia_250M.pdf'.format(columna.replace(' ','')),\n",
    "               format = 'pdf',\n",
    "               dpi = 600)      \n",
    "    else:\n",
    "        plt.title('Predicción de {} por día'.format(columna))\n",
    "        plt.savefig('graficos/graf_prediccion_{}_dia.pdf'.format(columna.replace(' ','')),\n",
    "               format = 'pdf',\n",
    "               dpi = 600)\n",
    "    plt.show()"
   ]
  },
  {
   "cell_type": "code",
   "execution_count": null,
   "metadata": {
    "ExecuteTime": {
     "end_time": "2020-06-21T03:46:02.075798Z",
     "start_time": "2020-06-21T03:46:02.056808Z"
    }
   },
   "outputs": [],
   "source": [
    "def pred_largo_plazo(params, dias, columna, extra = False):\n",
    "    # Generar predicciones\n",
    "    pred = predicciones(params, range(1,dias+1))\n",
    "    \n",
    "    dia = df['Dia']\n",
    "    original = df[columna]\n",
    "    \n",
    "    fig, ax = plt.subplots()\n",
    "    \n",
    "    grafico_real = plt.scatter(dia, original, alpha = 0.8, s = 15, label = '{} Real'.format(columna),\n",
    "                              c = 'green')\n",
    "    \n",
    "    \n",
    "    grafico_predicciones = plt.plot(range(1, dias+1), pred, label = 'Predicción', c = 'royalblue')\n",
    "    \n",
    "    \n",
    "    if columna == 'Fallecidos':\n",
    "        plt.gca().yaxis.set_major_formatter(tick.FuncFormatter(lambda x,y: str(int(x)) ))\n",
    "    else:\n",
    "        plt.gca().yaxis.set_major_formatter(tick.FuncFormatter(lambda x,y: str(int(x//1000)) + 'M' ))\n",
    "    \n",
    "    ax.set_ylabel('Cantidad de {}'.format(columna))\n",
    "    ax.set_xlabel('Día')\n",
    "    \n",
    "    plt.legend(loc=2)\n",
    "    plt.tight_layout()\n",
    "    \n",
    "    if extra:\n",
    "        plt.title('Predicción de {} a {} dias, Máximo 250M'.format(columna, dias))\n",
    "        plt.savefig('graficos/graf_prediccion_{}_a_{}_dias_250M.pdf'.format(columna.replace(' ',''), dias),\n",
    "                   format = 'pdf',\n",
    "                   dpi = 600)\n",
    "    else:\n",
    "        plt.title('Predicción de {} a {} dias'.format(columna, dias))\n",
    "        plt.savefig('graficos/graf_prediccion_{}_a_{}_dias.pdf'.format(columna.replace(' ',''), dias),\n",
    "                   format = 'pdf',\n",
    "                   dpi = 600)\n",
    "    plt.show()"
   ]
  },
  {
   "cell_type": "markdown",
   "metadata": {},
   "source": [
    "## Predicciones Infectados General"
   ]
  },
  {
   "cell_type": "code",
   "execution_count": null,
   "metadata": {
    "ExecuteTime": {
     "end_time": "2020-06-21T03:36:22.149077Z",
     "start_time": "2020-06-21T03:36:22.141086Z"
    }
   },
   "outputs": [],
   "source": [
    "print('Parámetros encontrados:\\n Lambda: {} \\n Beta: {} \\n Sigma: {}'.format(mod_infectados_general.x[0],\n",
    "                                                                            mod_infectados_general.x[1],\n",
    "                                                                            mod_infectados_general.x[2]))"
   ]
  },
  {
   "cell_type": "code",
   "execution_count": null,
   "metadata": {
    "ExecuteTime": {
     "end_time": "2020-06-21T03:30:03.043883Z",
     "start_time": "2020-06-21T03:30:03.036888Z"
    }
   },
   "outputs": [],
   "source": [
    "# Prediccion con los parámetros obtenidos de mod_infectados\n",
    "total_pred = predicciones(mod_infectados_general.x, df['Dia'])"
   ]
  },
  {
   "cell_type": "code",
   "execution_count": null,
   "metadata": {
    "ExecuteTime": {
     "end_time": "2020-06-21T03:30:17.533037Z",
     "start_time": "2020-06-21T03:30:17.526041Z"
    }
   },
   "outputs": [],
   "source": [
    "rmse_infectados = np.sqrt(mean_squared_error(df['Casos Totales'], total_pred))\n",
    "print('El RMSE obtenido con las predicciones es de\\n RMSE: {}'.format(rmse_infectados))"
   ]
  },
  {
   "cell_type": "code",
   "execution_count": null,
   "metadata": {
    "ExecuteTime": {
     "end_time": "2020-06-21T03:30:34.269141Z",
     "start_time": "2020-06-21T03:30:33.638529Z"
    }
   },
   "outputs": [],
   "source": [
    "plot_diferencias('Casos Totales', total_pred)"
   ]
  },
  {
   "cell_type": "code",
   "execution_count": null,
   "metadata": {
    "ExecuteTime": {
     "end_time": "2020-06-21T03:30:58.404448Z",
     "start_time": "2020-06-21T03:30:57.815297Z"
    }
   },
   "outputs": [],
   "source": [
    "pred_largo_plazo(mod_infectados_general.x, 200, 'Casos Totales')"
   ]
  },
  {
   "cell_type": "markdown",
   "metadata": {},
   "source": [
    "## Predicciones Infectados Cota"
   ]
  },
  {
   "cell_type": "code",
   "execution_count": null,
   "metadata": {
    "ExecuteTime": {
     "end_time": "2020-06-21T03:36:52.740208Z",
     "start_time": "2020-06-21T03:36:52.733218Z"
    }
   },
   "outputs": [],
   "source": [
    "print('Parámetros encontrados:\\n Lambda: {} \\n Beta: {} \\n Sigma: {}'.format(mod_infectados_cota.x[0],\n",
    "                                                                            mod_infectados_cota.x[1],\n",
    "                                                                            mod_infectados_cota.x[2]))"
   ]
  },
  {
   "cell_type": "code",
   "execution_count": null,
   "metadata": {
    "ExecuteTime": {
     "end_time": "2020-06-21T03:36:53.269884Z",
     "start_time": "2020-06-21T03:36:53.262887Z"
    }
   },
   "outputs": [],
   "source": [
    "# Prediccion con los parámetros obtenidos de mod_infectados\n",
    "total_pred_cota = predicciones(mod_infectados_cota.x, df['Dia'])"
   ]
  },
  {
   "cell_type": "code",
   "execution_count": null,
   "metadata": {
    "ExecuteTime": {
     "end_time": "2020-06-21T03:20:26.325425Z",
     "start_time": "2020-06-21T03:20:26.317429Z"
    }
   },
   "outputs": [],
   "source": [
    "rmse_infectados_cota = np.sqrt(mean_squared_error(df['Casos Totales'], total_pred_cota))\n",
    "print('El RMSE obtenido con las predicciones es de\\n RMSE: {}'.format(rmse_infectados_cota))"
   ]
  },
  {
   "cell_type": "code",
   "execution_count": null,
   "metadata": {
    "ExecuteTime": {
     "end_time": "2020-06-21T03:20:33.046801Z",
     "start_time": "2020-06-21T03:20:32.337238Z"
    }
   },
   "outputs": [],
   "source": [
    "plot_diferencias('Casos Totales', total_pred_cota, extra = True)"
   ]
  },
  {
   "cell_type": "code",
   "execution_count": null,
   "metadata": {
    "ExecuteTime": {
     "end_time": "2020-06-21T03:21:10.320786Z",
     "start_time": "2020-06-21T03:21:09.544267Z"
    }
   },
   "outputs": [],
   "source": [
    "pred_largo_plazo(mod_infectados_cota.x, 200, 'Casos Totales', extra = True)"
   ]
  },
  {
   "cell_type": "markdown",
   "metadata": {},
   "source": [
    "## Predicciones Fallecidos"
   ]
  },
  {
   "cell_type": "code",
   "execution_count": null,
   "metadata": {
    "ExecuteTime": {
     "end_time": "2020-06-21T03:42:37.202646Z",
     "start_time": "2020-06-21T03:42:37.194653Z"
    }
   },
   "outputs": [],
   "source": [
    "print('Parámetros encontrados:\\n Lambda: {} \\n Beta: {} \\n Sigma: {}'.format(mod_fallecidos_general.x[0],\n",
    "                                                                            mod_fallecidos_general.x[1],\n",
    "                                                                            mod_fallecidos_general.x[2]))"
   ]
  },
  {
   "cell_type": "code",
   "execution_count": null,
   "metadata": {
    "ExecuteTime": {
     "end_time": "2020-06-21T03:43:40.643734Z",
     "start_time": "2020-06-21T03:43:40.638739Z"
    }
   },
   "outputs": [],
   "source": [
    "# Prediccion con los parámetros obtenidos de mod_fallecidos\n",
    "fallecidos_pred = predicciones(mod_fallecidos_general.x, df['Dia'])"
   ]
  },
  {
   "cell_type": "code",
   "execution_count": null,
   "metadata": {
    "ExecuteTime": {
     "end_time": "2020-06-21T03:44:00.428652Z",
     "start_time": "2020-06-21T03:44:00.420658Z"
    }
   },
   "outputs": [],
   "source": [
    "rmse_fallecidos = np.sqrt(mean_squared_error(df['Fallecidos'], fallecidos_pred))\n",
    "print('El RMSE obtenido con las predicciones es de\\n RMSE: {}'.format(rmse_fallecidos))"
   ]
  },
  {
   "cell_type": "code",
   "execution_count": null,
   "metadata": {
    "ExecuteTime": {
     "end_time": "2020-06-21T03:46:14.863177Z",
     "start_time": "2020-06-21T03:46:14.231567Z"
    }
   },
   "outputs": [],
   "source": [
    "plot_diferencias('Fallecidos', fallecidos_pred)"
   ]
  },
  {
   "cell_type": "code",
   "execution_count": null,
   "metadata": {
    "ExecuteTime": {
     "end_time": "2020-06-21T03:47:22.603842Z",
     "start_time": "2020-06-21T03:47:22.071171Z"
    }
   },
   "outputs": [],
   "source": [
    "pred_largo_plazo(mod_fallecidos_general.x, 130, 'Fallecidos')"
   ]
  },
  {
   "cell_type": "code",
   "execution_count": null,
   "metadata": {},
   "outputs": [],
   "source": []
  }
 ],
 "metadata": {
  "kernelspec": {
   "display_name": "Python 3",
   "language": "python",
   "name": "python3"
  },
  "language_info": {
   "codemirror_mode": {
    "name": "ipython",
    "version": 3
   },
   "file_extension": ".py",
   "mimetype": "text/x-python",
   "name": "python",
   "nbconvert_exporter": "python",
   "pygments_lexer": "ipython3",
   "version": "3.7.6"
  },
  "toc": {
   "base_numbering": 1,
   "nav_menu": {},
   "number_sections": true,
   "sideBar": true,
   "skip_h1_title": false,
   "title_cell": "Table of Contents",
   "title_sidebar": "Contents",
   "toc_cell": false,
   "toc_position": {
    "height": "calc(100% - 180px)",
    "left": "10px",
    "top": "150px",
    "width": "187.309px"
   },
   "toc_section_display": true,
   "toc_window_display": true
  },
  "varInspector": {
   "cols": {
    "lenName": 16,
    "lenType": 16,
    "lenVar": 40
   },
   "kernels_config": {
    "python": {
     "delete_cmd_postfix": "",
     "delete_cmd_prefix": "del ",
     "library": "var_list.py",
     "varRefreshCmd": "print(var_dic_list())"
    },
    "r": {
     "delete_cmd_postfix": ") ",
     "delete_cmd_prefix": "rm(",
     "library": "var_list.r",
     "varRefreshCmd": "cat(var_dic_list()) "
    }
   },
   "types_to_exclude": [
    "module",
    "function",
    "builtin_function_or_method",
    "instance",
    "_Feature"
   ],
   "window_display": false
  }
 },
 "nbformat": 4,
 "nbformat_minor": 4
}
